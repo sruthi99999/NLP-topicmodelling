{
  "nbformat": 4,
  "nbformat_minor": 0,
  "metadata": {
    "colab": {
      "provenance": [],

      "authorship_tag": "ABX9TyOZHWhKELjr/zAYtVYk383G",

      "include_colab_link": true
    },
    "kernelspec": {
      "name": "python3",
      "display_name": "Python 3"
    },
    "language_info": {
      "name": "python"
    }
  },
  "cells": [
    {
      "cell_type": "markdown",
      "metadata": {
        "id": "view-in-github",
        "colab_type": "text"
      },
      "source": [
        "<a href=\"https://colab.research.google.com/github/aishwaryasharmaccoew/CIS6930-NLP/blob/aishwarya/NLP.ipynb\" target=\"_parent\"><img src=\"https://colab.research.google.com/assets/colab-badge.svg\" alt=\"Open In Colab\"/></a>"
      ]
    },
    {
      "cell_type": "markdown",
      "source": [
        "# **LSA**\n",
        "\n",
        "**Loading Data**"
      ],
      "metadata": {
        "id": "UA3jKaM3qSzF"
      }
    },
    {
      "cell_type": "code",
      "source": [
        "import warnings\n",
        "import pandas as pd\n",
        "warnings.filterwarnings('ignore')\n",
        "#url = 'https://raw.githubusercontent.com/aishwaryasharmaccoew/CIS6930-NLP/aishwarya/Data/addiction_2018_features_tfidf_256_clean.csv'\n",
        "url= \"/content/sample_data/depression_post_features_tfidf_256.csv\"\n",
        "df1 = pd.read_csv(url)\n",
        "df= df1[['post']].copy()\n",
        "df.head()"
      ],
      "metadata": {
        "colab": {
          "base_uri": "https://localhost:8080/",
          "height": 204
        },
        "id": "tdk7WhSNqjHn",

        "outputId": "a8574981-6d31-42af-831d-8c7dc5a78849"
      },
      "execution_count": 17,

      "outputs": [
        {
          "output_type": "execute_result",
          "data": {
            "text/plain": [
              "                                                post\n",
              "0  My heart aches but i cant break Recently my re...\n",
              "1  Cheers I’m not sure if this is the right sub t...\n",
              "2  Fuck titles. I’m depressed I feel so fucking w...\n",
              "3  suffering from low energy I'm not exaggerating...\n",
              "4  I can already tell This year is just going to ..."
            ],
            "text/html": [
              "\n",

              "  <div id=\"df-d442e086-69e7-4de9-a26c-148f48549cef\">\n",

              "    <div class=\"colab-df-container\">\n",
              "      <div>\n",
              "<style scoped>\n",
              "    .dataframe tbody tr th:only-of-type {\n",
              "        vertical-align: middle;\n",
              "    }\n",
              "\n",
              "    .dataframe tbody tr th {\n",
              "        vertical-align: top;\n",
              "    }\n",
              "\n",
              "    .dataframe thead th {\n",
              "        text-align: right;\n",
              "    }\n",
              "</style>\n",
              "<table border=\"1\" class=\"dataframe\">\n",
              "  <thead>\n",
              "    <tr style=\"text-align: right;\">\n",
              "      <th></th>\n",
              "      <th>post</th>\n",
              "    </tr>\n",
              "  </thead>\n",
              "  <tbody>\n",
              "    <tr>\n",
              "      <th>0</th>\n",
              "      <td>My heart aches but i cant break Recently my re...</td>\n",
              "    </tr>\n",
              "    <tr>\n",
              "      <th>1</th>\n",
              "      <td>Cheers I’m not sure if this is the right sub t...</td>\n",
              "    </tr>\n",
              "    <tr>\n",
              "      <th>2</th>\n",
              "      <td>Fuck titles. I’m depressed I feel so fucking w...</td>\n",
              "    </tr>\n",
              "    <tr>\n",
              "      <th>3</th>\n",
              "      <td>suffering from low energy I'm not exaggerating...</td>\n",
              "    </tr>\n",
              "    <tr>\n",
              "      <th>4</th>\n",
              "      <td>I can already tell This year is just going to ...</td>\n",
              "    </tr>\n",
              "  </tbody>\n",
              "</table>\n",
              "</div>\n",

              "      <button class=\"colab-df-convert\" onclick=\"convertToInteractive('df-d442e086-69e7-4de9-a26c-148f48549cef')\"\n",

              "              title=\"Convert this dataframe to an interactive table.\"\n",
              "              style=\"display:none;\">\n",
              "        \n",
              "  <svg xmlns=\"http://www.w3.org/2000/svg\" height=\"24px\"viewBox=\"0 0 24 24\"\n",
              "       width=\"24px\">\n",
              "    <path d=\"M0 0h24v24H0V0z\" fill=\"none\"/>\n",
              "    <path d=\"M18.56 5.44l.94 2.06.94-2.06 2.06-.94-2.06-.94-.94-2.06-.94 2.06-2.06.94zm-11 1L8.5 8.5l.94-2.06 2.06-.94-2.06-.94L8.5 2.5l-.94 2.06-2.06.94zm10 10l.94 2.06.94-2.06 2.06-.94-2.06-.94-.94-2.06-.94 2.06-2.06.94z\"/><path d=\"M17.41 7.96l-1.37-1.37c-.4-.4-.92-.59-1.43-.59-.52 0-1.04.2-1.43.59L10.3 9.45l-7.72 7.72c-.78.78-.78 2.05 0 2.83L4 21.41c.39.39.9.59 1.41.59.51 0 1.02-.2 1.41-.59l7.78-7.78 2.81-2.81c.8-.78.8-2.07 0-2.86zM5.41 20L4 18.59l7.72-7.72 1.47 1.35L5.41 20z\"/>\n",
              "  </svg>\n",
              "      </button>\n",
              "      \n",
              "  <style>\n",
              "    .colab-df-container {\n",
              "      display:flex;\n",
              "      flex-wrap:wrap;\n",
              "      gap: 12px;\n",
              "    }\n",
              "\n",
              "    .colab-df-convert {\n",
              "      background-color: #E8F0FE;\n",
              "      border: none;\n",
              "      border-radius: 50%;\n",
              "      cursor: pointer;\n",
              "      display: none;\n",
              "      fill: #1967D2;\n",
              "      height: 32px;\n",
              "      padding: 0 0 0 0;\n",
              "      width: 32px;\n",
              "    }\n",
              "\n",
              "    .colab-df-convert:hover {\n",
              "      background-color: #E2EBFA;\n",
              "      box-shadow: 0px 1px 2px rgba(60, 64, 67, 0.3), 0px 1px 3px 1px rgba(60, 64, 67, 0.15);\n",
              "      fill: #174EA6;\n",
              "    }\n",
              "\n",
              "    [theme=dark] .colab-df-convert {\n",
              "      background-color: #3B4455;\n",
              "      fill: #D2E3FC;\n",
              "    }\n",
              "\n",
              "    [theme=dark] .colab-df-convert:hover {\n",
              "      background-color: #434B5C;\n",
              "      box-shadow: 0px 1px 3px 1px rgba(0, 0, 0, 0.15);\n",
              "      filter: drop-shadow(0px 1px 2px rgba(0, 0, 0, 0.3));\n",
              "      fill: #FFFFFF;\n",
              "    }\n",
              "  </style>\n",
              "\n",
              "      <script>\n",
              "        const buttonEl =\n",

              "          document.querySelector('#df-d442e086-69e7-4de9-a26c-148f48549cef button.colab-df-convert');\n",

              "        buttonEl.style.display =\n",
              "          google.colab.kernel.accessAllowed ? 'block' : 'none';\n",
              "\n",
              "        async function convertToInteractive(key) {\n",

              "          const element = document.querySelector('#df-d442e086-69e7-4de9-a26c-148f48549cef');\n",

              "          const dataTable =\n",
              "            await google.colab.kernel.invokeFunction('convertToInteractive',\n",
              "                                                     [key], {});\n",
              "          if (!dataTable) return;\n",
              "\n",
              "          const docLinkHtml = 'Like what you see? Visit the ' +\n",
              "            '<a target=\"_blank\" href=https://colab.research.google.com/notebooks/data_table.ipynb>data table notebook</a>'\n",
              "            + ' to learn more about interactive tables.';\n",
              "          element.innerHTML = '';\n",
              "          dataTable['output_type'] = 'display_data';\n",
              "          await google.colab.output.renderOutput(dataTable, element);\n",
              "          const docLink = document.createElement('div');\n",
              "          docLink.innerHTML = docLinkHtml;\n",
              "          element.appendChild(docLink);\n",
              "        }\n",
              "      </script>\n",
              "    </div>\n",
              "  </div>\n",
              "  "
            ]
          },
          "metadata": {},

          "execution_count": 17

        }
      ]
    },
    {
      "cell_type": "markdown",
      "source": [
        "**Data Preprocessing** <br>\n",
        "Steps involved are :\n",
        "1. Remove all the special characters from the text.\n",
        "2. Remove all the words with less than 5 letters.\n",
        "3. Lowercase all the characters.\n",
        "4. Remove stop words.\n",
        "5. Remove profanity\n"
      ],
      "metadata": {
        "id": "Be3t4m44wn9W"
      }
    },
    {
      "cell_type": "code",
      "source": [
        "#remove special characters\n",
        "df['preprocessed_posts'] = df['post'].str.replace(\"[^a-zA-Z#]\", \" \")\n",
        "#remove words have letters less than 5\n",
        "df['preprocessed_posts'] = df['preprocessed_posts'].fillna('').apply(lambda x: ' '.join([w for w in x.split() if len(w)>5]))\n",
        "#lowercase all characters\n",
        "df['preprocessed_posts'] = df['preprocessed_posts'].fillna('').apply(lambda x: x.lower())\n",
        "#remove stop words\n",
        "\n",
        "# Remove profanity\n",
        "\n",
        "import re\n",
        "pattern = r'\\b' + \"fuck\" + r'\\w*\\b'\n",
        "df['preprocessed_posts'] = df['preprocessed_posts'].fillna('').apply(lambda x: re.sub(pattern, '', x))\n",
        "\n",
        "\n",
        "import nltk\n",
        "nltk.download('stopwords')\n",
        "from nltk.corpus import stopwords\n",
        "stop_words = stopwords.words('english')\n",
        "# tokenization\n",
        "tokenized_doc = df['preprocessed_posts'].fillna('').apply(lambda x: x.split())\n",
        "# remove stop-words\n",
        "tokenized_doc = tokenized_doc.apply(lambda x: [item for item in x if item not in stop_words])\n",
        "# de-tokenization\n",
        "detokenized_doc = []\n",
        "for i in range(len(df)):\n",
        "    t = ' '.join(tokenized_doc[i])\n",
        "    detokenized_doc.append(t)\n",
        "df['preprocessed_posts'] = detokenized_doc\n",
        "df['preprocessed_posts']\n",
        "\n"
      ],
      "metadata": {
        "colab": {
          "base_uri": "https://localhost:8080/"
        },
        "id": "Yyupqvq0wnTl",

        "outputId": "381dafe8-9b55-4437-cc05-aa16f14d1054"
      },
      "execution_count": 18,

      "outputs": [
        {
          "output_type": "stream",
          "name": "stderr",
          "text": [
            "[nltk_data] Downloading package stopwords to /root/nltk_data...\n",
            "[nltk_data]   Package stopwords is already up-to-date!\n"
          ]
        },
        {
          "output_type": "execute_result",
          "data": {
            "text/plain": [

              "0        recently relationship boyfriend friend attache...\n",
              "1        cheers evening opened elevator really beautifu...\n",
              "2        titles depressed worthless around everyone par...\n",
              "3        suffering energy exaggerating taking cooking c...\n",
              "4        already stupid enough optimism foolish atleast...\n",
              "                               ...                        \n",
              "38028    someone please anymore disappear absolutely mi...\n",
              "38029    really depressed talked school corona happened...\n",
              "38030    people quarantine realize stupid saying making...\n",
              "38031    messed things girlfriend couple months boyfrie...\n",
              "38032    suicide attempt survivor depression intrusive ...\n",
              "Name: preprocessed_posts, Length: 38033, dtype: object"
            ]
          },
          "metadata": {},
          "execution_count": 18
        }
      ]
    },
    {
      "cell_type": "markdown",
      "source": [
        "**Document Term Matrix**"
      ],
      "metadata": {
        "id": "6hDTE7PfzfB4"
      }
    },
    {
      "cell_type": "code",
      "source": [
        "from sklearn.feature_extraction.text import TfidfVectorizer\n",
        "vectorizer = TfidfVectorizer(stop_words='english', smooth_idf=True)\n",
        "dtMatrix = vectorizer.fit_transform(df['preprocessed_posts'])\n",
        "dtMatrix.get_shape()"
      ],
      "metadata": {
        "colab": {
          "base_uri": "https://localhost:8080/"
        },
        "id": "B5E6GbA4sobn",

        "outputId": "718dcea7-b01d-4618-89c3-9070977cc671"
      },
      "execution_count": 8,

      "outputs": [
        {
          "output_type": "execute_result",
          "data": {
            "text/plain": [
              "(13170, 19247)"
            ]
          },
          "metadata": {},
          "execution_count": 8

        }
      ]
    },
    {
      "cell_type": "markdown",
      "source": [
        "**Applying LSA**"
      ],
      "metadata": {
        "id": "-97Ap-Gx1M_C"
      }
    },
    {
      "cell_type": "code",
      "source": [
        "# Universally defining the final number of expected topics\n",
        "numcomp=10\n",
        "topic_num=[]\n",
        "\n",
        "for tnum in range(1,numcomp+1):\n",
        "  topic_num.append(\"topic_\"+str(tnum))\n",
        "\n",
        "# SVD represent documents and terms in vectors \n",
        "from sklearn.decomposition import TruncatedSVD\n",
        "svd_model = TruncatedSVD(n_components=numcomp, algorithm='randomized', n_iter=100, random_state=122)\n",

        "lsa = svd_model.fit_transform(dtMatrix)\n",
        "\n",
        "# Documents - Topic vector\n",
        "pd.options.display.float_format = '{:,.16f}'.format\n",

        "topic_encoded_df = pd.DataFrame(lsa, columns = topic_num)\n",
        "topic_encoded_df[\"posts\"] = df['preprocessed_posts']\n",
        "\n",
        "# Features or words used as features \n",
        "dictionary = vectorizer.get_feature_names_out()\n",
        "\n",
        "# Term-Topic matrix\n",
        "encoding_matrix = pd.DataFrame(svd_model.components_, index = topic_num, columns = (dictionary)).T\n",
        "\n",
        "disp=[\"posts\"]\n",
        "disp.append(topic_num)\n",
        "display(topic_encoded_df[topic_num])"
      ],
      "metadata": {
        "colab": {
          "base_uri": "https://localhost:8080/",
          "height": 483
        },
        "id": "Duzq3sUj1MmT",
        "outputId": "7893aaf8-9df8-43ed-8ff2-ba3a95db335b"
      },
      "execution_count": 14,
      "outputs": [
        {
          "output_type": "display_data",
          "data": {
            "text/plain": [
              "                 topic_1             topic_2             topic_3  \\\n",
              "0     0.2344899613925449 -0.0397211058655747  0.0834744480538878   \n",
              "1     0.0828791854205308 -0.0430068395500974 -0.0031255904060064   \n",
              "2     0.1889357549829164  0.0650131641741568  0.0945566255700975   \n",
              "3     0.1702667197499023 -0.0476516217976419 -0.0975623089468651   \n",
              "4     0.0198834418781901  0.0024998178461308  0.0022397384404481   \n",
              "...                  ...                 ...                 ...   \n",
              "13165 0.1455316305342489 -0.0945990616676289  0.0414227392731764   \n",
              "13166 0.1168747152259505 -0.0373116679211846  0.0982819229484511   \n",
              "13167 0.1493690434468878 -0.0079914060133955 -0.0580448592524330   \n",
              "13168 0.0329062684993492 -0.0270046045480584  0.0073630479910881   \n",
              "13169 0.0915588984850840  0.0387043007702869  0.0302878740274296   \n",
              "\n",
              "                  topic_4             topic_5             topic_6  \\\n",
              "0      0.0155434220287317  0.0100122685222202 -0.0648388126702545   \n",
              "1     -0.0361769854477301  0.1172447207354869 -0.0136803209512675   \n",
              "2     -0.0443828252339057  0.0195385867958046  0.2121135096018658   \n",
              "3      0.2229140700848597 -0.0268208992595177  0.0175002601401984   \n",
              "4      0.0042650954315337  0.0046732876599514  0.0006760768007399   \n",
              "...                   ...                 ...                 ...   \n",
              "13165 -0.0602027517046763  0.1351729762427321  0.1126605964394995   \n",
              "13166  0.0264230246236357 -0.1022637863302113 -0.0308785181498761   \n",
              "13167  0.1011445181480861  0.0273359602425331 -0.0210334371907597   \n",
              "13168  0.0031677108784970 -0.0142097459363069 -0.0141879550786713   \n",
              "13169 -0.0173556708442223  0.0411003156851286 -0.0214575032677936   \n",
              "\n",
              "                  topic_7             topic_8             topic_9  \\\n",
              "0     -0.0062955051430784 -0.0291539422464727 -0.0029388435874853   \n",
              "1     -0.0114037789551716 -0.0635150989833826  0.1256949598254672   \n",
              "2     -0.0723083588361236  0.0130604084864091 -0.0712262143275772   \n",
              "3      0.0821601074935108  0.0135289931147375  0.0167978918793310   \n",
              "4     -0.0037789824478644  0.0009527221889359 -0.0020355637370111   \n",
              "...                   ...                 ...                 ...   \n",
              "13165  0.0069177923736942 -0.0314096883428797  0.0893559678390360   \n",
              "13166  0.0683692694303661  0.0163437318401034  0.0184488042102472   \n",
              "13167 -0.0347141964387057  0.0225832434320818  0.0186268198881083   \n",
              "13168  0.0044098962277752  0.0085361298863530  0.0135689989224536   \n",
              "13169  0.0379572030433673  0.0156418017543349  0.0114901464035055   \n",
              "\n",
              "                 topic_10  \n",
              "0      0.0155639638029029  \n",
              "1      0.0783772698185123  \n",
              "2     -0.0012436349709031  \n",
              "3      0.0027143987063223  \n",
              "4      0.0015418410307685  \n",
              "...                   ...  \n",
              "13165  0.0255281383714036  \n",
              "13166  0.0271094431429287  \n",
              "13167 -0.1378431621019999  \n",
              "13168 -0.0136782832165548  \n",
              "13169 -0.0181704434102425  \n",
              "\n",
              "[13170 rows x 10 columns]"
            ],
            "text/html": [
              "\n",
              "  <div id=\"df-6bfa8eec-e4c2-43e3-9c9b-82cd080ca650\">\n",
              "    <div class=\"colab-df-container\">\n",
              "      <div>\n",
              "<style scoped>\n",
              "    .dataframe tbody tr th:only-of-type {\n",
              "        vertical-align: middle;\n",
              "    }\n",
              "\n",
              "    .dataframe tbody tr th {\n",
              "        vertical-align: top;\n",
              "    }\n",
              "\n",
              "    .dataframe thead th {\n",
              "        text-align: right;\n",
              "    }\n",
              "</style>\n",
              "<table border=\"1\" class=\"dataframe\">\n",
              "  <thead>\n",
              "    <tr style=\"text-align: right;\">\n",
              "      <th></th>\n",
              "      <th>topic_1</th>\n",
              "      <th>topic_2</th>\n",
              "      <th>topic_3</th>\n",
              "      <th>topic_4</th>\n",
              "      <th>topic_5</th>\n",
              "      <th>topic_6</th>\n",
              "      <th>topic_7</th>\n",
              "      <th>topic_8</th>\n",
              "      <th>topic_9</th>\n",
              "      <th>topic_10</th>\n",
              "    </tr>\n",
              "  </thead>\n",
              "  <tbody>\n",
              "    <tr>\n",
              "      <th>0</th>\n",
              "      <td>0.2344899613925449</td>\n",
              "      <td>-0.0397211058655747</td>\n",
              "      <td>0.0834744480538878</td>\n",
              "      <td>0.0155434220287317</td>\n",
              "      <td>0.0100122685222202</td>\n",
              "      <td>-0.0648388126702545</td>\n",
              "      <td>-0.0062955051430784</td>\n",
              "      <td>-0.0291539422464727</td>\n",
              "      <td>-0.0029388435874853</td>\n",
              "      <td>0.0155639638029029</td>\n",
              "    </tr>\n",
              "    <tr>\n",
              "      <th>1</th>\n",
              "      <td>0.0828791854205308</td>\n",
              "      <td>-0.0430068395500974</td>\n",
              "      <td>-0.0031255904060064</td>\n",
              "      <td>-0.0361769854477301</td>\n",
              "      <td>0.1172447207354869</td>\n",
              "      <td>-0.0136803209512675</td>\n",
              "      <td>-0.0114037789551716</td>\n",
              "      <td>-0.0635150989833826</td>\n",
              "      <td>0.1256949598254672</td>\n",
              "      <td>0.0783772698185123</td>\n",
              "    </tr>\n",
              "    <tr>\n",
              "      <th>2</th>\n",
              "      <td>0.1889357549829164</td>\n",
              "      <td>0.0650131641741568</td>\n",
              "      <td>0.0945566255700975</td>\n",
              "      <td>-0.0443828252339057</td>\n",
              "      <td>0.0195385867958046</td>\n",
              "      <td>0.2121135096018658</td>\n",
              "      <td>-0.0723083588361236</td>\n",
              "      <td>0.0130604084864091</td>\n",
              "      <td>-0.0712262143275772</td>\n",
              "      <td>-0.0012436349709031</td>\n",
              "    </tr>\n",
              "    <tr>\n",
              "      <th>3</th>\n",
              "      <td>0.1702667197499023</td>\n",
              "      <td>-0.0476516217976419</td>\n",
              "      <td>-0.0975623089468651</td>\n",
              "      <td>0.2229140700848597</td>\n",
              "      <td>-0.0268208992595177</td>\n",
              "      <td>0.0175002601401984</td>\n",
              "      <td>0.0821601074935108</td>\n",
              "      <td>0.0135289931147375</td>\n",
              "      <td>0.0167978918793310</td>\n",
              "      <td>0.0027143987063223</td>\n",
              "    </tr>\n",
              "    <tr>\n",
              "      <th>4</th>\n",
              "      <td>0.0198834418781901</td>\n",
              "      <td>0.0024998178461308</td>\n",
              "      <td>0.0022397384404481</td>\n",
              "      <td>0.0042650954315337</td>\n",
              "      <td>0.0046732876599514</td>\n",
              "      <td>0.0006760768007399</td>\n",
              "      <td>-0.0037789824478644</td>\n",
              "      <td>0.0009527221889359</td>\n",
              "      <td>-0.0020355637370111</td>\n",
              "      <td>0.0015418410307685</td>\n",
              "    </tr>\n",
              "    <tr>\n",
              "      <th>...</th>\n",
              "      <td>...</td>\n",
              "      <td>...</td>\n",
              "      <td>...</td>\n",
              "      <td>...</td>\n",
              "      <td>...</td>\n",
              "      <td>...</td>\n",
              "      <td>...</td>\n",
              "      <td>...</td>\n",
              "      <td>...</td>\n",
              "      <td>...</td>\n",
              "    </tr>\n",
              "    <tr>\n",
              "      <th>13165</th>\n",
              "      <td>0.1455316305342489</td>\n",
              "      <td>-0.0945990616676289</td>\n",
              "      <td>0.0414227392731764</td>\n",
              "      <td>-0.0602027517046763</td>\n",
              "      <td>0.1351729762427321</td>\n",
              "      <td>0.1126605964394995</td>\n",
              "      <td>0.0069177923736942</td>\n",
              "      <td>-0.0314096883428797</td>\n",
              "      <td>0.0893559678390360</td>\n",
              "      <td>0.0255281383714036</td>\n",
              "    </tr>\n",
              "    <tr>\n",
              "      <th>13166</th>\n",
              "      <td>0.1168747152259505</td>\n",
              "      <td>-0.0373116679211846</td>\n",
              "      <td>0.0982819229484511</td>\n",
              "      <td>0.0264230246236357</td>\n",
              "      <td>-0.1022637863302113</td>\n",
              "      <td>-0.0308785181498761</td>\n",
              "      <td>0.0683692694303661</td>\n",
              "      <td>0.0163437318401034</td>\n",
              "      <td>0.0184488042102472</td>\n",
              "      <td>0.0271094431429287</td>\n",
              "    </tr>\n",
              "    <tr>\n",
              "      <th>13167</th>\n",
              "      <td>0.1493690434468878</td>\n",
              "      <td>-0.0079914060133955</td>\n",
              "      <td>-0.0580448592524330</td>\n",
              "      <td>0.1011445181480861</td>\n",
              "      <td>0.0273359602425331</td>\n",
              "      <td>-0.0210334371907597</td>\n",
              "      <td>-0.0347141964387057</td>\n",
              "      <td>0.0225832434320818</td>\n",
              "      <td>0.0186268198881083</td>\n",
              "      <td>-0.1378431621019999</td>\n",
              "    </tr>\n",
              "    <tr>\n",
              "      <th>13168</th>\n",
              "      <td>0.0329062684993492</td>\n",
              "      <td>-0.0270046045480584</td>\n",
              "      <td>0.0073630479910881</td>\n",
              "      <td>0.0031677108784970</td>\n",
              "      <td>-0.0142097459363069</td>\n",
              "      <td>-0.0141879550786713</td>\n",
              "      <td>0.0044098962277752</td>\n",
              "      <td>0.0085361298863530</td>\n",
              "      <td>0.0135689989224536</td>\n",
              "      <td>-0.0136782832165548</td>\n",
              "    </tr>\n",
              "    <tr>\n",
              "      <th>13169</th>\n",
              "      <td>0.0915588984850840</td>\n",
              "      <td>0.0387043007702869</td>\n",
              "      <td>0.0302878740274296</td>\n",
              "      <td>-0.0173556708442223</td>\n",
              "      <td>0.0411003156851286</td>\n",
              "      <td>-0.0214575032677936</td>\n",
              "      <td>0.0379572030433673</td>\n",
              "      <td>0.0156418017543349</td>\n",
              "      <td>0.0114901464035055</td>\n",
              "      <td>-0.0181704434102425</td>\n",
              "    </tr>\n",
              "  </tbody>\n",
              "</table>\n",
              "<p>13170 rows × 10 columns</p>\n",
              "</div>\n",
              "      <button class=\"colab-df-convert\" onclick=\"convertToInteractive('df-6bfa8eec-e4c2-43e3-9c9b-82cd080ca650')\"\n",
              "              title=\"Convert this dataframe to an interactive table.\"\n",
              "              style=\"display:none;\">\n",
              "        \n",
              "  <svg xmlns=\"http://www.w3.org/2000/svg\" height=\"24px\"viewBox=\"0 0 24 24\"\n",
              "       width=\"24px\">\n",
              "    <path d=\"M0 0h24v24H0V0z\" fill=\"none\"/>\n",
              "    <path d=\"M18.56 5.44l.94 2.06.94-2.06 2.06-.94-2.06-.94-.94-2.06-.94 2.06-2.06.94zm-11 1L8.5 8.5l.94-2.06 2.06-.94-2.06-.94L8.5 2.5l-.94 2.06-2.06.94zm10 10l.94 2.06.94-2.06 2.06-.94-2.06-.94-.94-2.06-.94 2.06-2.06.94z\"/><path d=\"M17.41 7.96l-1.37-1.37c-.4-.4-.92-.59-1.43-.59-.52 0-1.04.2-1.43.59L10.3 9.45l-7.72 7.72c-.78.78-.78 2.05 0 2.83L4 21.41c.39.39.9.59 1.41.59.51 0 1.02-.2 1.41-.59l7.78-7.78 2.81-2.81c.8-.78.8-2.07 0-2.86zM5.41 20L4 18.59l7.72-7.72 1.47 1.35L5.41 20z\"/>\n",
              "  </svg>\n",
              "      </button>\n",
              "      \n",
              "  <style>\n",
              "    .colab-df-container {\n",
              "      display:flex;\n",
              "      flex-wrap:wrap;\n",
              "      gap: 12px;\n",
              "    }\n",
              "\n",
              "    .colab-df-convert {\n",
              "      background-color: #E8F0FE;\n",
              "      border: none;\n",
              "      border-radius: 50%;\n",
              "      cursor: pointer;\n",
              "      display: none;\n",
              "      fill: #1967D2;\n",
              "      height: 32px;\n",
              "      padding: 0 0 0 0;\n",
              "      width: 32px;\n",
              "    }\n",
              "\n",
              "    .colab-df-convert:hover {\n",
              "      background-color: #E2EBFA;\n",
              "      box-shadow: 0px 1px 2px rgba(60, 64, 67, 0.3), 0px 1px 3px 1px rgba(60, 64, 67, 0.15);\n",
              "      fill: #174EA6;\n",
              "    }\n",
              "\n",
              "    [theme=dark] .colab-df-convert {\n",
              "      background-color: #3B4455;\n",
              "      fill: #D2E3FC;\n",
              "    }\n",
              "\n",
              "    [theme=dark] .colab-df-convert:hover {\n",
              "      background-color: #434B5C;\n",
              "      box-shadow: 0px 1px 3px 1px rgba(0, 0, 0, 0.15);\n",
              "      filter: drop-shadow(0px 1px 2px rgba(0, 0, 0, 0.3));\n",
              "      fill: #FFFFFF;\n",
              "    }\n",
              "  </style>\n",
              "\n",
              "      <script>\n",
              "        const buttonEl =\n",
              "          document.querySelector('#df-6bfa8eec-e4c2-43e3-9c9b-82cd080ca650 button.colab-df-convert');\n",
              "        buttonEl.style.display =\n",
              "          google.colab.kernel.accessAllowed ? 'block' : 'none';\n",
              "\n",
              "        async function convertToInteractive(key) {\n",
              "          const element = document.querySelector('#df-6bfa8eec-e4c2-43e3-9c9b-82cd080ca650');\n",
              "          const dataTable =\n",
              "            await google.colab.kernel.invokeFunction('convertToInteractive',\n",
              "                                                     [key], {});\n",
              "          if (!dataTable) return;\n",
              "\n",
              "          const docLinkHtml = 'Like what you see? Visit the ' +\n",
              "            '<a target=\"_blank\" href=https://colab.research.google.com/notebooks/data_table.ipynb>data table notebook</a>'\n",
              "            + ' to learn more about interactive tables.';\n",
              "          element.innerHTML = '';\n",
              "          dataTable['output_type'] = 'display_data';\n",
              "          await google.colab.output.renderOutput(dataTable, element);\n",
              "          const docLink = document.createElement('div');\n",
              "          docLink.innerHTML = docLinkHtml;\n",
              "          element.appendChild(docLink);\n",
              "        }\n",
              "      </script>\n",
              "    </div>\n",
              "  </div>\n",
              "  "
            ]
          },
          "metadata": {}
        }
      ]
    },
    {
      "cell_type": "markdown",
      "source": [
        "**Getting topics**"
      ],
      "metadata": {
        "id": "Ip7dAqQMfT_C"
      }
    },
    {
      "cell_type": "code",
      "source": [
        "terms = vectorizer.get_feature_names_out()\n",
        "for i, comp in enumerate(svd_model.components_):\n",
        "    terms_in_comp = zip(dictionary, comp)\n",
        "    sorted_terms = sorted(terms_in_comp, key=lambda x:x[1], reverse=True)[:10]\n",
        "    topic_words = [t[0] for t in sorted_terms]\n",
        "    print(\"Topic {}: {}\".format(i+1, \", \".join(topic_words)))"
      ],
      "metadata": {
        "colab": {
          "base_uri": "https://localhost:8080/"
        },
        "id": "lDN4YdY_fUYE",
        "outputId": "bc3eee3e-0819-41b4-ec01-5cbfff93a7a2"
      },
      "execution_count": 15,
      "outputs": [
        {
          "output_type": "stream",
          "name": "stdout",
          "text": [
            "Topic 1: really, people, depression, friends, things, anymore, depressed, feeling, better, school\n",
            "Topic 2: people, friends, anymore, school, lonely, person, friend, family, social, talking\n",
            "Topic 3: people, depression, depressed, better, things, feeling, anxiety, normal, understand, medication\n",
            "Topic 4: anymore, better, depression, people, things, living, trying, getting, matter, thoughts\n",
            "Topic 5: really, feeling, better, depressed, things, anymore, people, crying, lately, matter\n",
            "Topic 6: depressed, anymore, friends, feeling, school, friend, lonely, reason, crying, suicidal\n",
            "Topic 7: really, depression, anymore, people, anxiety, diagnosed, understand, severe, struggling, advice\n",
            "Topic 8: school, parents, people, depressed, really, things, college, getting, motivation, working\n",
            "Topic 9: feeling, school, thoughts, crying, suicidal, parents, people, suicide, normal, scared\n",
            "Topic 10: better, school, feeling, depression, really, lonely, friends, people, anymore, getting\n"
          ]
        }
      ]
    },
    {
      "cell_type": "markdown",
      "source": [
        "**Calculating inter topic correlation**"
      ],
      "metadata": {
        "id": "0AjMygJ6fbFG"
      }
    },
    {
      "cell_type": "code",
      "source": [
        "# Calculate the correlation between LSA components\n",
        "corr_matrix = topic_encoded_df.corr()\n",
        "print(corr_matrix)"
      ],
      "metadata": {
        "colab": {
          "base_uri": "https://localhost:8080/"
        },
        "id": "ZfJNfbjibU_b",
        "outputId": "1d2ee7fc-534d-49e3-d1e2-9a2ddfdc14ed"
      },
      "execution_count": 16,
      "outputs": [
        {
          "output_type": "stream",
          "name": "stdout",
          "text": [
            "                     topic_1             topic_2             topic_3  \\\n",
            "topic_1   1.0000000000000000  0.1117397705745573 -0.0092063298496432   \n",
            "topic_2   0.1117397705745573  1.0000000000000000  0.0002828674031291   \n",
            "topic_3  -0.0092063298496432  0.0002828674031291  1.0000000000000000   \n",
            "topic_4  -0.0957366290811595  0.0029415382779974 -0.0002423557119667   \n",
            "topic_5   0.0376092667749781 -0.0011555566441786  0.0000952072442206   \n",
            "topic_6   0.0288966304355515 -0.0008878581306560  0.0000731513477118   \n",
            "topic_7   0.0968340076437409 -0.0029752555822125  0.0002451337078645   \n",
            "topic_8  -0.0016983802050984  0.0000521832702055 -0.0000042994217339   \n",
            "topic_9  -0.0901693376721362  0.0027704814845668 -0.0002282622047472   \n",
            "topic_10  0.1502621129148783 -0.0046168510539171  0.0003803860832222   \n",
            "\n",
            "                     topic_4             topic_5             topic_6  \\\n",
            "topic_1  -0.0957366290811595  0.0376092667749781  0.0288966304355515   \n",
            "topic_2   0.0029415382779974 -0.0011555566441786 -0.0008878581306560   \n",
            "topic_3  -0.0002423557119667  0.0000952072442206  0.0000731513477118   \n",
            "topic_4   1.0000000000000000  0.0009900601840968  0.0007607009043795   \n",
            "topic_5   0.0009900601840968  1.0000000000000000 -0.0002988344536820   \n",
            "topic_6   0.0007607009043795 -0.0002988344536820  1.0000000000000000   \n",
            "topic_7   0.0025491455605406 -0.0010014087226053 -0.0007694204182476   \n",
            "topic_8  -0.0000447096889332  0.0000175637959543  0.0000134949326124   \n",
            "topic_9  -0.0023736987905050  0.0009324860496180  0.0007164645065622   \n",
            "topic_10  0.0039556350849753 -0.0015539353808791 -0.0011939476696165   \n",
            "\n",
            "                     topic_7             topic_8             topic_9  \\\n",
            "topic_1   0.0968340076437409 -0.0016983802050984 -0.0901693376721362   \n",
            "topic_2  -0.0029752555822125  0.0000521832702055  0.0027704814845668   \n",
            "topic_3   0.0002451337078645 -0.0000042994217339 -0.0002282622047472   \n",
            "topic_4   0.0025491455605406 -0.0000447096889332 -0.0023736987905050   \n",
            "topic_5  -0.0010014087226053  0.0000175637959543  0.0009324860496180   \n",
            "topic_6  -0.0007694204182476  0.0000134949326124  0.0007164645065622   \n",
            "topic_7   1.0000000000000000  0.0000452221725530  0.0024009072497112   \n",
            "topic_8   0.0000452221725530  1.0000000000000000 -0.0000421097241201   \n",
            "topic_9   0.0024009072497112 -0.0000421097241201  1.0000000000000000   \n",
            "topic_10 -0.0040009764468477  0.0000701734789639  0.0037256063756176   \n",
            "\n",
            "                    topic_10  \n",
            "topic_1   0.1502621129148783  \n",
            "topic_2  -0.0046168510539171  \n",
            "topic_3   0.0003803860832222  \n",
            "topic_4   0.0039556350849753  \n",
            "topic_5  -0.0015539353808791  \n",
            "topic_6  -0.0011939476696165  \n",
            "topic_7  -0.0040009764468477  \n",
            "topic_8   0.0000701734789639  \n",
            "topic_9   0.0037256063756176  \n",
            "topic_10  1.0000000000000000  \n"

          ]
        }
      ]
    }
  ]
}